{
 "cells": [
  {
   "cell_type": "markdown",
   "metadata": {},
   "source": [
    "# Neural & Behavioral Modeling - Week 5 (Exercises)\n",
    "by Your Name (Your Email)"
   ]
  },
  {
   "cell_type": "code",
   "execution_count": 2,
   "metadata": {},
   "outputs": [],
   "source": [
    "%config IPCompleter.greedy=True \n",
    "%matplotlib inline\n",
    "from numpy import *\n",
    "from matplotlib.pyplot import *\n",
    "from IPython.display import *"
   ]
  },
  {
   "cell_type": "markdown",
   "metadata": {},
   "source": [
    "## 1 Drifit Diffusion Model (5 points)\n",
    "\n",
    "Use whatever analytical methods to check if Tren's super EZ implementation(s) of the drift diffusion model produce exGaussian data, especially the exponential long tail. Remember to play around with different model parameters to see how they affect simulation results."
   ]
  },
  {
   "cell_type": "code",
   "execution_count": 157,
   "metadata": {},
   "outputs": [
    {
     "data": {
      "text/plain": [
       "4"
      ]
     },
     "execution_count": 157,
     "metadata": {},
     "output_type": "execute_result"
    },
    {
     "data": {
      "image/png": "[encoded data removed]",
      "text/plain": [
       "<matplotlib.figure.Figure at 0x11c73df28>"
      ]
     },
     "metadata": {},
     "output_type": "display_data"
    }
   ],
   "source": [
    "# Tren's implementation\n",
    "\n",
    "from numpy import *\n",
    "\n",
    "mu,sigma=0.2,2 # Diffusion type1\n",
    "p=0.4 # Diffusion type2\n",
    "Yend=20 # Threshold for response\n",
    "Ntrial=1000\n",
    "\n",
    "RTs=zeros(Ntrial)\n",
    "for i in range(Ntrial):\n",
    "    Y=0 # initial drift position\n",
    "    Ys=[] # drift history\n",
    "    RT=0 # Reset watch\n",
    "    while(Y<Yend):\n",
    "        dY=random.normal(2*mu,sigma); # type1\n",
    "#         dY=float((random.rand(1)-p)>=0); # type2\n",
    "        Y=Y+dY\n",
    "        Ys.append(Y); # Diffusion history in each trial\n",
    "        RT=RT+1 # clock is running\n",
    "    RTs[i]=RT;\n",
    "subplot(1,2,1);plot(Ys) # plot only the last trial to see the diffusion process\n",
    "# subplot(1,2,2);hist(RTs, int(max(RTs) - min(RTs)));\n",
    "subplot(1,2,2);hist(RTs);4"
   ]
  },
  {
   "cell_type": "code",
   "execution_count": 167,
   "metadata": {},
   "outputs": [
    {
     "data": {
      "text/plain": [
       "54.442"
      ]
     },
     "execution_count": 167,
     "metadata": {},
     "output_type": "execute_result"
    }
   ],
   "source": [
    "avg = average(RTs)\n",
    "avg"
   ]
  },
  {
   "cell_type": "code",
   "execution_count": 168,
   "metadata": {},
   "outputs": [
    {
     "data": {
      "text/plain": [
       "39.250161925923457"
      ]
     },
     "execution_count": 168,
     "metadata": {},
     "output_type": "execute_result"
    }
   ],
   "source": [
    "## easier way\n",
    "#srd(RTs)\n",
    "all_sum = 0\n",
    "for x in RTs:\n",
    "    all_sum += (x - average(RTs))**2\n",
    "std = sqrt(all_sum/(len(RTs)-1))\n",
    "std"
   ]
  },
  {
   "cell_type": "code",
   "execution_count": 169,
   "metadata": {},
   "outputs": [
    {
     "data": {
      "text/plain": [
       "132.94232385184691"
      ]
     },
     "execution_count": 169,
     "metadata": {},
     "output_type": "execute_result"
    }
   ],
   "source": [
    "avg + 2*std"
   ]
  },
  {
   "cell_type": "code",
   "execution_count": 172,
   "metadata": {},
   "outputs": [
    {
     "data": {
      "text/plain": [
       "array([ 139.,  142.,  149.,  154.,  198.,  187.,  135.,  153.,  192.,\n",
       "        157.,  170.,  154.,  147.,  174.,  202.,  149.,  154.,  315.,\n",
       "        156.,  296.,  169.,  193.,  203.,  178.,  133.,  151.,  151.,\n",
       "        157.,  178.,  137.,  139.,  376.,  225.,  243.,  143.,  160.,\n",
       "        195.,  142.,  141.,  180.,  137.,  136.,  178.,  171.,  160.,\n",
       "        184.,  207.])"
      ]
     },
     "execution_count": 172,
     "metadata": {},
     "output_type": "execute_result"
    }
   ],
   "source": [
    "bigger_than_2_std = RTs[RTs > (avg + 2*std)]\n",
    "bigger_than_2_std"
   ]
  },
  {
   "cell_type": "code",
   "execution_count": 179,
   "metadata": {},
   "outputs": [
    {
     "name": "stdout",
     "output_type": "stream",
     "text": [
      "4.7 %\n"
     ]
    }
   ],
   "source": [
    "len(bigger_than_2_std)/len(RTs)\n",
    "print(len(bigger_than_2_std)/len(RTs)*100, \"%\")"
   ]
  },
  {
   "cell_type": "markdown",
   "metadata": {},
   "source": [
    "如果他是高斯分布的話，平均值加上兩個標準差後，大於兩個標準差所佔的比例應該約為2.27%左右，但是本次模擬結果顯示，所佔的比例約為4.7%，明顯高於理論值，可以觀察出有long tail decay的現象。"
   ]
  },
  {
   "cell_type": "markdown",
   "metadata": {},
   "source": [
    "換測試三個標準差"
   ]
  },
  {
   "cell_type": "code",
   "execution_count": 181,
   "metadata": {},
   "outputs": [
    {
     "data": {
      "text/plain": [
       "172.19248577777037"
      ]
     },
     "execution_count": 181,
     "metadata": {},
     "output_type": "execute_result"
    }
   ],
   "source": [
    "avg + 3*std"
   ]
  },
  {
   "cell_type": "code",
   "execution_count": 182,
   "metadata": {},
   "outputs": [
    {
     "data": {
      "text/plain": [
       "array([ 198.,  187.,  192.,  174.,  202.,  315.,  296.,  193.,  203.,\n",
       "        178.,  178.,  376.,  225.,  243.,  195.,  180.,  178.,  184.,  207.])"
      ]
     },
     "execution_count": 182,
     "metadata": {},
     "output_type": "execute_result"
    }
   ],
   "source": [
    "bigger_than_3_std = RTs[RTs > (avg + 3*std)]\n",
    "bigger_than_3_std"
   ]
  },
  {
   "cell_type": "code",
   "execution_count": 183,
   "metadata": {},
   "outputs": [
    {
     "name": "stdout",
     "output_type": "stream",
     "text": [
      "1.9 %\n"
     ]
    }
   ],
   "source": [
    "len(bigger_than_3_std)/len(RTs)\n",
    "print(len(bigger_than_3_std)/len(RTs)*100, \"%\")"
   ]
  },
  {
   "cell_type": "markdown",
   "metadata": {},
   "source": [
    "如果是三個標準差，理論上來說應該剩下0.0032％比例的數值，但這次實驗卻仍有1.9%的數值，可以看出有long tial的情況"
   ]
  },
  {
   "cell_type": "markdown",
   "metadata": {},
   "source": [
    "接著我嘗試做100次"
   ]
  },
  {
   "cell_type": "code",
   "execution_count": 201,
   "metadata": {},
   "outputs": [],
   "source": [
    "# Tren's implementation\n",
    "\n",
    "from numpy import *\n",
    "\n",
    "mu,sigma=0.2,2 # Diffusion type1\n",
    "p=0.4 # Diffusion type2\n",
    "Yend=20 # Threshold for response\n",
    "Ntrial=1000\n",
    "\n",
    "RTs=zeros(Ntrial)\n",
    "\n",
    "avg_S = zeros(100)\n",
    "srd_S = zeros(100)\n",
    "std_2_S_percentage = zeros(100)\n",
    "std_3_S_percentage = zeros(100)\n",
    "\n",
    "for j in range(100):\n",
    "    for i in range(Ntrial):\n",
    "        Y=0 # initial drift position\n",
    "        Ys=[] # drift history\n",
    "        RT=0 # Reset watch\n",
    "        while(Y<Yend):\n",
    "            dY=random.normal(2*mu,sigma); # type1\n",
    "    #         dY=float((random.rand(1)-p)>=0); # type2\n",
    "            Y=Y+dY\n",
    "            Ys.append(Y); # Diffusion history in each trial\n",
    "            RT=RT+1 # clock is running\n",
    "        RTs[i]=RT;\n",
    "    avg_S[j] = average(RTs)\n",
    "    srd_S[j] = std(RTs)\n",
    "    std_2_S_percentage[j] = len(RTs[RTs > (average(RTs) + 2*std(RTs))]) / len(RTs)\n",
    "    std_3_S_percentage[j] = len(RTs[RTs > (average(RTs) + 3*std(RTs))]) / len(RTs)\n",
    "# subplot(1,2,1);plot(Ys) # plot only the last trial to see the diffusion process\n",
    "# # subplot(1,2,2);hist(RTs, int(max(RTs) - min(RTs)));\n",
    "# subplot(1,2,2);hist(RTs);4"
   ]
  },
  {
   "cell_type": "code",
   "execution_count": 202,
   "metadata": {},
   "outputs": [
    {
     "data": {
      "text/plain": [
       "array([ 54.75 ,  53.118,  52.039,  53.821,  53.948,  52.494,  51.657,\n",
       "        52.269,  53.919,  51.942,  53.915,  53.473,  53.089,  52.992,\n",
       "        52.588,  52.698,  52.216,  53.024,  52.149,  52.5  ,  53.672,\n",
       "        54.221,  52.616,  52.285,  51.668,  52.743,  54.616,  52.101,\n",
       "        53.141,  52.95 ,  52.243,  52.707,  54.698,  52.893,  53.577,\n",
       "        52.707,  52.657,  53.756,  54.378,  54.398,  52.965,  52.024,\n",
       "        52.227,  53.134,  53.222,  52.385,  53.612,  52.645,  52.238,\n",
       "        54.508,  54.706,  52.598,  53.231,  52.579,  51.629,  54.897,\n",
       "        52.267,  53.612,  55.47 ,  54.014,  54.468,  53.167,  54.637,\n",
       "        52.394,  53.115,  53.209,  53.283,  51.968,  51.621,  54.871,\n",
       "        52.823,  52.72 ,  52.638,  52.683,  52.628,  53.919,  53.846,\n",
       "        53.259,  53.102,  54.112,  52.552,  51.85 ,  53.222,  53.131,\n",
       "        53.409,  54.563,  52.259,  55.015,  51.858,  53.526,  54.468,\n",
       "        51.923,  54.052,  50.548,  53.124,  53.671,  53.084,  53.656,\n",
       "        53.081,  53.775])"
      ]
     },
     "execution_count": 202,
     "metadata": {},
     "output_type": "execute_result"
    }
   ],
   "source": [
    "avg_S"
   ]
  },
  {
   "cell_type": "code",
   "execution_count": 203,
   "metadata": {},
   "outputs": [
    {
     "data": {
      "text/plain": [
       "array([ 36.28208235,  36.16000658,  35.86886504,  36.65126136,\n",
       "        36.39496251,  38.01946822,  34.1754788 ,  33.98079809,\n",
       "        36.60582521,  35.26673554,  38.26034207,  36.33859203,\n",
       "        37.08893472,  37.88012587,  33.96130528,  36.42483762,\n",
       "        34.45549802,  36.40356334,  33.31061091,  34.03686237,\n",
       "        35.58134927,  39.56182704,  34.57939479,  35.06302575,\n",
       "        34.59343545,  34.4054785 ,  36.78399848,  33.54717274,\n",
       "        35.63825359,  36.16411896,  34.86218512,  34.94774887,\n",
       "        37.98066345,  36.32095196,  36.34886616,  35.54111916,\n",
       "        32.51829256,  37.19581245,  37.99890941,  36.61646619,\n",
       "        35.74945839,  34.33973535,  34.6918358 ,  34.2928862 ,\n",
       "        36.47147812,  34.02541366,  37.73154457,  36.76396299,\n",
       "        36.4547028 ,  37.5882686 ,  38.06774966,  35.44015231,\n",
       "        36.27375965,  37.36995797,  34.20291448,  37.77526163,\n",
       "        34.95453777,  35.02415532,  37.17651275,  36.7184668 ,\n",
       "        38.44079833,  37.59956264,  35.98031727,  34.03414115,\n",
       "        35.97779558,  36.75776542,  36.42467448,  34.56036713,\n",
       "        35.07003506,  40.20540211,  34.10811738,  33.8912024 ,\n",
       "        36.35234457,  37.44148115,  37.48081664,  37.71936424,\n",
       "        35.51374782,  34.68071393,  35.44821005,  36.82672204,\n",
       "        36.74078518,  35.35598252,  34.05928238,  35.396975  ,\n",
       "        36.92705944,  38.44773116,  36.61177296,  38.23219553,\n",
       "        38.22977682,  38.81594162,  38.81714796,  36.23279   ,\n",
       "        36.99196259,  31.70598833,  37.41505879,  37.57814204,\n",
       "        36.14104238,  35.8638211 ,  36.58431958,  35.53016148])"
      ]
     },
     "execution_count": 203,
     "metadata": {},
     "output_type": "execute_result"
    }
   ],
   "source": [
    "srd_S"
   ]
  },
  {
   "cell_type": "code",
   "execution_count": 204,
   "metadata": {},
   "outputs": [
    {
     "data": {
      "text/plain": [
       "array([ 0.045,  0.053,  0.046,  0.055,  0.032,  0.046,  0.046,  0.052,\n",
       "        0.046,  0.05 ,  0.047,  0.049,  0.047,  0.045,  0.052,  0.051,\n",
       "        0.046,  0.047,  0.051,  0.044,  0.046,  0.044,  0.047,  0.05 ,\n",
       "        0.052,  0.051,  0.053,  0.046,  0.051,  0.045,  0.049,  0.046,\n",
       "        0.046,  0.04 ,  0.048,  0.046,  0.057,  0.05 ,  0.045,  0.049,\n",
       "        0.047,  0.052,  0.047,  0.047,  0.044,  0.048,  0.046,  0.041,\n",
       "        0.054,  0.052,  0.049,  0.035,  0.045,  0.049,  0.044,  0.047,\n",
       "        0.047,  0.044,  0.051,  0.049,  0.054,  0.054,  0.054,  0.05 ,\n",
       "        0.054,  0.052,  0.051,  0.05 ,  0.048,  0.045,  0.044,  0.051,\n",
       "        0.039,  0.045,  0.053,  0.051,  0.049,  0.046,  0.045,  0.048,\n",
       "        0.045,  0.043,  0.048,  0.047,  0.044,  0.045,  0.049,  0.044,\n",
       "        0.041,  0.044,  0.04 ,  0.042,  0.05 ,  0.047,  0.046,  0.048,\n",
       "        0.046,  0.041,  0.054,  0.046])"
      ]
     },
     "execution_count": 204,
     "metadata": {},
     "output_type": "execute_result"
    }
   ],
   "source": [
    "std_2_S_percentage"
   ]
  },
  {
   "cell_type": "code",
   "execution_count": 205,
   "metadata": {},
   "outputs": [
    {
     "data": {
      "text/plain": [
       "array([ 0.018,  0.017,  0.021,  0.019,  0.015,  0.023,  0.018,  0.013,\n",
       "        0.016,  0.02 ,  0.026,  0.022,  0.021,  0.018,  0.019,  0.017,\n",
       "        0.016,  0.015,  0.019,  0.019,  0.016,  0.02 ,  0.02 ,  0.019,\n",
       "        0.019,  0.019,  0.02 ,  0.015,  0.019,  0.018,  0.02 ,  0.017,\n",
       "        0.015,  0.015,  0.021,  0.016,  0.016,  0.021,  0.022,  0.021,\n",
       "        0.019,  0.019,  0.016,  0.009,  0.012,  0.013,  0.015,  0.02 ,\n",
       "        0.019,  0.014,  0.02 ,  0.019,  0.015,  0.021,  0.019,  0.017,\n",
       "        0.017,  0.011,  0.015,  0.017,  0.019,  0.015,  0.011,  0.02 ,\n",
       "        0.016,  0.022,  0.019,  0.017,  0.021,  0.017,  0.019,  0.016,\n",
       "        0.021,  0.023,  0.017,  0.026,  0.017,  0.016,  0.017,  0.016,\n",
       "        0.014,  0.017,  0.017,  0.017,  0.017,  0.023,  0.02 ,  0.02 ,\n",
       "        0.023,  0.018,  0.017,  0.019,  0.016,  0.019,  0.016,  0.019,\n",
       "        0.02 ,  0.016,  0.019,  0.014])"
      ]
     },
     "execution_count": 205,
     "metadata": {},
     "output_type": "execute_result"
    }
   ],
   "source": [
    "std_3_S_percentage"
   ]
  },
  {
   "cell_type": "markdown",
   "metadata": {},
   "source": [
    "結果都符合預期，在兩個、三個標準差裡都可以看到值比一般的高斯分佈來得高。 此外發現在model 1，當平均值增加後，鐘型的中間會往右邊偏移。"
   ]
  },
  {
   "cell_type": "markdown",
   "metadata": {
    "collapsed": true
   },
   "source": [
    "### Write your analysis or code here"
   ]
  },
  {
   "cell_type": "markdown",
   "metadata": {},
   "source": [
    "## 2 Choose ONE of the following tasks (5 points):\n",
    "\n",
    "(1) Port EZdata.m from Matlab to Python\n",
    "\n",
    "(2) Port dataEz.m from Matlab to Python\n",
    "\n",
    "(3) Provide an intuitive explanation about the form of exGuassian's probability density function (PDF).\n",
    "\n",
    "<font color=\"grey\">(Mathemaitcal derivation of that PDF may help you to figure out what's going on but please try to explain the whole thing in plain English.)</font>"
   ]
  },
  {
   "cell_type": "markdown",
   "metadata": {},
   "source": [
    "(2) Port dataEz.m from Matlab to Python\n",
    "write a function. Give v, a, Ter, s and return Pc, VRT, MRT"
   ]
  },
  {
   "cell_type": "markdown",
   "metadata": {},
   "source": [
    "### Input\n",
    "% V is a (matrix of) mean drift rate (per condition)\n",
    "\n",
    "% A is a (matrix of) boundary separation (per condition)\n",
    "\n",
    "% Ter is a (matrix of) non-decision time\n",
    "\n",
    "% size(v)=size(a)=size(Ter)=size(Pc)=size(VRT)=size(MRT). Scalars work too.\n",
    "\n",
    "% s is a scaling parameter. Default s=0.1"
   ]
  },
  {
   "cell_type": "markdown",
   "metadata": {},
   "source": [
    "### Output\n",
    "% Pc is probability correct.\n",
    "\n",
    "% VRT is the variance of response times, both for correct and errors.\n",
    "\n",
    "% MRT is the mean response time, both for correct and errors."
   ]
  },
  {
   "cell_type": "code",
   "execution_count": 213,
   "metadata": {},
   "outputs": [],
   "source": [
    "from math import *\n",
    "def EZdata(v, a, Ter, s = 0.1):\n",
    "    # The scaling parameter s has a ubiquitous default of 0.1\n",
    "    s2 = s**2\n",
    "    # Probability correct\n",
    "    y = -v * a / s2\n",
    "    Pc = 1 / (1+exp(y))\n",
    "    # Postpone special case v=0\n",
    "    idx = v[v != 0]\n",
    "    vi = v[idx] ;\n",
    "    yi = y[idx] ;\n",
    "    if len(a) ==1:\n",
    "        ai = a \n",
    "    else:\n",
    "        ai = a[idx] \n",
    "        #allow for scalar a\n",
    "        \n",
    "    # Variance of response times -- Equation 6 in Wagenmakers et al\n",
    "    exp_yi = exp(yi)\n",
    "    VRTi = (2*yi*exp_yi - exp(2*yi) + 1) / (exp_yi+1)**2\n",
    "    VRTi = VRTi * (ai*s2/(2*vi^3))\n",
    "    VRT = [[0]*len(v)]*len(v)\n",
    "    VRT[idx] = VRTi\n",
    "    \n",
    "    #-- Mean decision time -- Equation 9\n",
    "    MDTi = (1 - exp_yi) / (1 + exp_yi)\n",
    "    MDTi = MDTi * (ai/(2*vi))\n",
    "    MDT = [[0]*len(v)]*len(v)\n",
    "    MDT[idx] = MDTi\n",
    "    \n",
    "    #-- Now handle special case v=0\n",
    "    idx = v[v==0] ;\n",
    "    if (not all(idx==0)):\n",
    "        if (len(a)==1):\n",
    "            ai = a\n",
    "        else:\n",
    "            ai = a[idx]\n",
    "        #- Variance of response times\n",
    "        VRTi = ai**4 / (24*s2**2);     # Eq. on top of p. 9, right\n",
    "        VRT[idx] = VRTi\n",
    "        #- Mean decision time\n",
    "        MDTi = ai**2 / (4*s2)\n",
    "        MDT[idx] = MDTi\n",
    "\n",
    "    ans = (Pc, VRT, MRT)\n",
    "    return ans"
   ]
  }
 ],
 "metadata": {
  "kernelspec": {
   "display_name": "Python 3",
   "language": "python",
   "name": "python3"
  },
  "language_info": {
   "codemirror_mode": {
    "name": "ipython",
    "version": 3
   },
   "file_extension": ".py",
   "mimetype": "text/x-python",
   "name": "python",
   "nbconvert_exporter": "python",
   "pygments_lexer": "ipython3",
   "version": "3.6.3"
  }
 },
 "nbformat": 4,
 "nbformat_minor": 2
}
