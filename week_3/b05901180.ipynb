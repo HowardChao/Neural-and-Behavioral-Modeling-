{
 "cells": [
  {
   "cell_type": "markdown",
   "metadata": {},
   "source": [
    "# Neural & Behavioral Modeling - Week 4 (Exercises)\n",
    "by Your Name (Your Email)"
   ]
  },
  {
   "cell_type": "code",
   "execution_count": 38,
   "metadata": {},
   "outputs": [],
   "source": [
    "%config IPCompleter.greedy=True \n",
    "%matplotlib inline\n",
    "from numpy import *\n",
    "from matplotlib.pyplot import *\n",
    "from IPython.display import *"
   ]
  },
  {
   "cell_type": "markdown",
   "metadata": {},
   "source": [
    "## 1 Replicate exisiting findings/models \n",
    "Based on your personal interest, please choose and replicate ONE of the following studies:\n",
    "\n",
    "1. <a href=\"http://ccl.northwestern.edu/netlogo/models/FlockingVeeFormations\">Flocking Vee Formations</a> in NetLogo's [Sample Models::Biology] \n",
    "\n",
    "2. <a href=\"http://ccl.northwestern.edu/netlogo/models/WolfSheepPredation\">Wolf-Sheep Predation</a> in NetLogo's [Sample Models::Biology] \n",
    "\n",
    "3. <a href=\"https://www.wetalk.tw/thread-36278-1-1.html\">MIT Matching Game</a>\n",
    "\n",
    "4. Gray, K., Rand, D. G., Ert, E., Lewis, K., Hershman, S., & Norton, M. I. (2014). <a href=\"http://www.mpmlab.org/groups/\">The emergence of “us and them” in 80 lines of code: Modeling group genesis in homogeneous populations</a>. Psychological Science, 25(4), 982-990.\n",
    "\n",
    "5. Luhmann, C. C., & Rajaram, S. (2015). <a href=\"http://journals.sagepub.com/doi/abs/10.1177/0956797615605798\">Memory transmission in small groups and large networks: An agent-based model</a>. Psychological Science, 26(12), 1909-1917."
   ]
  },
  {
   "cell_type": "code",
   "execution_count": 39,
   "metadata": {},
   "outputs": [
    {
     "data": {
      "text/plain": [
       "array([-1, -1])"
      ]
     },
     "execution_count": 39,
     "metadata": {},
     "output_type": "execute_result"
    }
   ],
   "source": [
    "random.randint(-1,2,2)"
   ]
  },
  {
   "cell_type": "code",
   "execution_count": 40,
   "metadata": {},
   "outputs": [],
   "source": [
    "xy = random.randint(0, 50)"
   ]
  },
  {
   "cell_type": "code",
   "execution_count": 41,
   "metadata": {},
   "outputs": [
    {
     "data": {
      "text/plain": [
       "1"
      ]
     },
     "execution_count": 41,
     "metadata": {},
     "output_type": "execute_result"
    }
   ],
   "source": [
    "xy"
   ]
  },
  {
   "cell_type": "code",
   "execution_count": 42,
   "metadata": {},
   "outputs": [],
   "source": [
    "# Write your codes here\n",
    "initial_sheep = 50\n",
    "initial_wolf = 50\n",
    "grass_regrowth_time = 45 # 0 ~ 100\n",
    "sz = 50\n",
    "\n",
    "class sheep:\n",
    "    def __init__(self, grid):\n",
    "        grid_size=len(grid)\n",
    "#         self.energy=10 # initial energy\n",
    "        self.color = \"#f3e9c0\" # skin color\n",
    "        self.growth = 8\n",
    "        self.reproduce = 0.03\n",
    "        self.energy = random.randint(0, 50)\n",
    "        self.xy = random.randint(0, grid_size, 2)  # location\n",
    "        \n",
    "    def move(self, grid):\n",
    "        grid_size=len(grid)\n",
    "        self.xy += random.randint(-10,11,2) # stay or move to its neighboring locations\n",
    "        self.xy=mod(self.xy,grid_size) # cyclic boundary\n",
    "#         self.energy-=1 # energy decay\n",
    "\n",
    "    def walk_eat_or_starve(self,grid):\n",
    "        self.energy += 2\n",
    "        grid_size=len(grid)\n",
    "#         if(grid[self.xy[0],self.xy[1]]==1): # there is food\n",
    "#             grid[self.xy[0],self.xy[1]]=0 # eat it!\n",
    "#             self.energy+=10\n",
    "#             if self.energy <= 0:"
   ]
  },
  {
   "cell_type": "code",
   "execution_count": 43,
   "metadata": {},
   "outputs": [],
   "source": [
    "class wolf:\n",
    "    def __init__(self,grid):\n",
    "        grid_size=len(grid)\n",
    "        self.color = \"black\" # skin color\n",
    "        self.growth = 20\n",
    "        self.reproduce = 0.06\n",
    "        self.energy = random.randint(0, 100)\n",
    "        self.xy = random.randint(0, grid_size, 2)  # location\n",
    "        \n",
    "    def move(self, grid):\n",
    "        grid_size=len(grid)\n",
    "        self.xy += random.randint(-10,11,2) # stay or move to its neighboring locations\n",
    "        self.xy=mod(self.xy,grid_size) # cyclic boundary\n",
    "#         self.energy-=1 # energy decay\n",
    "    def walk_eat_or_starve(self,grid):\n",
    "        grid_size=len(grid)\n",
    "        self.energy -= 4\n",
    "        for sheep_in in sheeps:\n",
    "            if array_equal(sheep_in.xy,  self.xy):\n",
    "                self.energy += 100\n",
    "                sheeps.remove(sheep_in)\n",
    "#                 print('remove')\n",
    "#         if(grid[self.xy[0],self.xy[1]]==1): # there is food\n",
    "#             grid[self.xy[0],self.xy[1]]=0 # eat it!\n",
    "#             self.energy+=10\n",
    "#         else:\n",
    "#             self.energy-=8\n",
    "#             if self.energy <= 0:"
   ]
  },
  {
   "cell_type": "code",
   "execution_count": 44,
   "metadata": {},
   "outputs": [],
   "source": [
    "class grass:\n",
    "    def __init__(self, grass_regrowth_time):\n",
    "        self.grass_regrowth_time = grass_regrowth_time"
   ]
  },
  {
   "cell_type": "code",
   "execution_count": 45,
   "metadata": {},
   "outputs": [],
   "source": [
    "def plot_world(grid, sheeps, wolves):\n",
    "    sz=len(grid)\n",
    "    clf() # clear previous figure\n",
    "    spy(grid,alpha=0.1)\n",
    "    for a in sheeps:\n",
    "        offset=(random.rand(2)-1)/2 # adding some positional offsets to avoid overlapping of agents\n",
    "        text(a.xy[1]+offset[1],a.xy[0]+offset[0],'♞',{'size':12,'color': a.color})\n",
    "        #text(a.xy[1]+offset[1],a.xy[0]+offset[0],str(a.energy),{'size':12,'color':a.color})\n",
    "    for a in wolves:\n",
    "        offset=(random.rand(2)-1)/2 # adding some positional offsets to avoid overlapping of agents\n",
    "        text(a.xy[1]+offset[1],a.xy[0]+offset[0],'☠',{'size':12,'color': a.color})\n",
    "        #text(a.xy[1]+offset[1],a.xy[0]+offset[0],str(a.energy),{'size':12,'color':a.color})\n",
    "#     title('Nalive='+str(len(agents)))\n",
    "    axis('off')\n",
    "    display(gcf()); clear_output(wait=True) # to allow dynamic plots"
   ]
  },
  {
   "cell_type": "code",
   "execution_count": null,
   "metadata": {},
   "outputs": [
    {
     "data": {
      "image/png": "[encoded data removed]",
      "text/plain": [
       "<matplotlib.figure.Figure at 0x11ce66dd8>"
      ]
     },
     "metadata": {},
     "output_type": "display_data"
    }
   ],
   "source": [
    "grid=ones((sz,sz)) # try eye(sz)\n",
    "sheeps = [sheep(grid) for i in range(initial_sheep)] # assign each person to a location\n",
    "wolves = [wolf(grid) for i in range(initial_wolf)]\n",
    "sheep_number = len(sheeps)\n",
    "wolf_number = len(wolves)\n",
    "\n",
    "while(sheep_number>0 and wolf_number > 0): # Simulation stops when everyone dies\n",
    "#     for person in people:\n",
    "#         person.move(grid)\n",
    "#         person.eat(grid)\n",
    "#         if(person.energy>100):\n",
    "#             people.append(Person(grid)) # reproduce\n",
    "#             people[-1].xy=person.xy.copy() # easier to see the reproduction\n",
    "#             person.energy-=50\n",
    "#     Nalive=len(people)\n",
    "#     people=[people[i] for i in range(Nalive) if people[i].energy>0] # some people died\n",
    "    for sheep_inst in sheeps:\n",
    "        sheep_inst.move(grid)\n",
    "        sheep_inst.walk_eat_or_starve(grid)\n",
    "        if sheep_inst.energy >= 100:\n",
    "            sheeps.append(sheep(grid)) # reproduce\n",
    "            sheeps[-1].xy=sheep_inst.xy.copy() # easier to see the reproduction\n",
    "            sheep_inst.energy-=50\n",
    "        elif sheep_inst.energy <= 0:\n",
    "            sheeps.remove(sheep_inst)\n",
    "    for wolf_inst in wolves:\n",
    "        wolf_inst.move(grid)\n",
    "        wolf_inst.walk_eat_or_starve(grid)\n",
    "        if wolf_inst.energy >= 150:\n",
    "            wolves.append(wolf(grid)) # reproduce\n",
    "            wolves[-1].xy=wolf_inst.xy.copy() # easier to see the reproduction\n",
    "            wolf_inst.energy-=50\n",
    "        elif wolf_inst.energy <= 0:\n",
    "            wolves.remove(wolf_inst)\n",
    "    plot_world(grid, sheeps, wolves) # Plot new results\n",
    "#     print('sheep:', len(sheeps), 'wolf:', len(wolves))\n",
    "    #time.sleep(1)"
   ]
  },
  {
   "cell_type": "code",
   "execution_count": null,
   "metadata": {},
   "outputs": [],
   "source": []
  }
 ],
 "metadata": {
  "kernelspec": {
   "display_name": "Python 3",
   "language": "python",
   "name": "python3"
  },
  "language_info": {
   "codemirror_mode": {
    "name": "ipython",
    "version": 3
   },
   "file_extension": ".py",
   "mimetype": "text/x-python",
   "name": "python",
   "nbconvert_exporter": "python",
   "pygments_lexer": "ipython3",
   "version": "3.6.3"
  }
 },
 "nbformat": 4,
 "nbformat_minor": 2
}
