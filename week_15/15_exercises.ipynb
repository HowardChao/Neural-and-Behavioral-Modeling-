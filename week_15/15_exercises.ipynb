{
 "cells": [
  {
   "cell_type": "markdown",
   "metadata": {},
   "source": [
    "# Neural & Behavioral Modeling - Week 15 (Exercises)\n",
    "Howard Chao (ntueeb05howard@gmail.com)"
   ]
  },
  {
   "cell_type": "code",
   "execution_count": 1,
   "metadata": {},
   "outputs": [
    {
     "name": "stdout",
     "output_type": "stream",
     "text": [
      "Solving environment: failed\n",
      "\n",
      "PackagesNotFoundError: The following packages are not available from current channels:\n",
      "\n",
      "  - torchvision-cpu\n",
      "  - pytorch-cpu\n",
      "\n",
      "Current channels:\n",
      "\n",
      "  - https://conda.anaconda.org/pytorch/osx-64\n",
      "  - https://conda.anaconda.org/pytorch/noarch\n",
      "  - https://repo.anaconda.com/pkgs/main/osx-64\n",
      "  - https://repo.anaconda.com/pkgs/main/noarch\n",
      "  - https://repo.anaconda.com/pkgs/free/osx-64\n",
      "  - https://repo.anaconda.com/pkgs/free/noarch\n",
      "  - https://repo.anaconda.com/pkgs/r/osx-64\n",
      "  - https://repo.anaconda.com/pkgs/r/noarch\n",
      "  - https://repo.anaconda.com/pkgs/pro/osx-64\n",
      "  - https://repo.anaconda.com/pkgs/pro/noarch\n",
      "\n",
      "To search for alternate channels that may provide the conda package you're\n",
      "looking for, navigate to\n",
      "\n",
      "    https://anaconda.org\n",
      "\n",
      "and use the search bar at the top of the page.\n",
      "\n",
      "\n"
     ]
    }
   ],
   "source": [
    "# Upgrade PyTorch to 0.4.0 if necessary:\n",
    "! conda install -y pytorch-cpu torchvision-cpu -c pytorch"
   ]
  },
  {
   "cell_type": "code",
   "execution_count": 352,
   "metadata": {},
   "outputs": [],
   "source": [
    "%config IPCompleter.greedy=True \n",
    "%matplotlib inline\n",
    "from matplotlib.pyplot import *\n",
    "from mpl_toolkits.mplot3d.axes3d import *\n",
    "from IPython.display import *\n",
    "import numpy as np"
   ]
  },
  {
   "cell_type": "code",
   "execution_count": 353,
   "metadata": {},
   "outputs": [],
   "source": [
    "# PyTorch\n",
    "import torch as t\n",
    "import torch.utils.data as Data\n",
    "from torch import optim\n",
    "import torch.nn as nn\n",
    "import torch.nn.functional as F\n",
    "import torchvision.models as models\n",
    "import torchvision as tv\n",
    "import torchvision.transforms as transforms\n",
    "from torchvision.transforms import ToPILImage\n",
    "from torchvision.datasets import CIFAR10\n",
    "show = ToPILImage()"
   ]
  },
  {
   "cell_type": "code",
   "execution_count": 354,
   "metadata": {},
   "outputs": [
    {
     "name": "stdout",
     "output_type": "stream",
     "text": [
      "PyTorch version: 0.4.0\n",
      "No GPU\n"
     ]
    }
   ],
   "source": [
    "# Check GPU status:\n",
    "import torch as t\n",
    "t.manual_seed(1)    # for reproduction\n",
    "print('PyTorch version:',t.__version__)\n",
    "use_cuda=t.cuda.is_available()\n",
    "if(use_cuda):\n",
    "    for i in range(t.cuda.device_count()):\n",
    "        print('Device ',i,':',t.cuda.get_device_name(i))\n",
    "    print('Current: Device ',t.cuda.current_device())\n",
    "    t.backends.cudnn.benchmark = True \n",
    "    device = t.device(\"cuda\")\n",
    "else:\n",
    "    device = t.device(\"cpu\")\n",
    "    print('No GPU')"
   ]
  },
  {
   "cell_type": "markdown",
   "metadata": {},
   "source": [
    "## 1 Visualizing the latent space of an autoencoder (7 points)\n",
    "\n",
    "Please train an autoencoder to project MNIST (training) images to a 2D latent space and visualize how these images are organzed in the latent space, as demonstrated in P.9 of 15.pdf."
   ]
  },
  {
   "cell_type": "markdown",
   "metadata": {},
   "source": [
    "### 1.0 The MNIST Data"
   ]
  },
  {
   "cell_type": "code",
   "execution_count": 355,
   "metadata": {},
   "outputs": [
    {
     "data": {
      "text/plain": [
       "('mnist.pkl.gz', <http.client.HTTPMessage at 0x15d14eb38>)"
      ]
     },
     "execution_count": 355,
     "metadata": {},
     "output_type": "execute_result"
    }
   ],
   "source": [
    "# Download the dataset:\n",
    "import urllib.request\n",
    "urllib.request.urlretrieve('http://deeplearning.net/data/mnist/mnist.pkl.gz','mnist.pkl.gz')"
   ]
  },
  {
   "cell_type": "code",
   "execution_count": 449,
   "metadata": {},
   "outputs": [],
   "source": [
    "train_data = tv.datasets.MNIST(\n",
    "    root='./mnist/',\n",
    "    train=True,                                     # this is training data\n",
    "    transform=tv.transforms.ToTensor(),    # Converts a PIL.Image or numpy.ndarray to\n",
    "                                                    # torch.FloatTensor of shape (C x H x W) and normalize in the range [0.0, 1.0]\n",
    "    download=True,                        # download it if you don't have it\n",
    ")"
   ]
  },
  {
   "cell_type": "code",
   "execution_count": 450,
   "metadata": {},
   "outputs": [],
   "source": [
    "train_loader = t.utils.data.DataLoader(train_data, batch_size=32, shuffle=True)"
   ]
  },
  {
   "cell_type": "code",
   "execution_count": 364,
   "metadata": {},
   "outputs": [],
   "source": [
    "# # Load the dataset:\n",
    "# import pickle, gzip\n",
    "# f = gzip.open('mnist.pkl.gz','rb')\n",
    "# train_set, valid_set, test_set = pickle.load(f,encoding='unicode-escape')\n",
    "# train_data = t.utils.data.DataLoader(train_set, batch_size=32, shuffle=True)\n",
    "# test_data = t.utils.data.DataLoader(train_set, batch_size=1000, shuffle=True)\n",
    "# f.close()\n",
    "# x_train,y_train=train_set[0],train_set[1]\n",
    "# x_valid,y_valid=valid_set[0],valid_set[1]\n",
    "# x_test,y_test=test_set[0],test_set[1]\n",
    "# X_train=t.from_numpy(x_train)\n",
    "# Y_train=t.from_numpy(y_train)\n",
    "# X_test=t.from_numpy(x_test)\n",
    "# Y_test=t.from_numpy(y_test)"
   ]
  },
  {
   "cell_type": "code",
   "execution_count": 366,
   "metadata": {},
   "outputs": [],
   "source": [
    "# # Examine the dataset:\n",
    "# print(x_train.shape,y_train.shape,x_test.shape,y_test.shape)\n",
    "# print(np.min(x_train),np.max(x_train),np.min(y_train),np.max(y_train))\n",
    "# for i in range(50):\n",
    "#     subplot(5,10,i+1)\n",
    "#     imshow(x_test[i].reshape([28,28]),cmap='gray');\n",
    "#     title(str(y_test[i]));\n",
    "#     axis('off')"
   ]
  },
  {
   "cell_type": "markdown",
   "metadata": {},
   "source": [
    "### 1.1 An autoencoder"
   ]
  },
  {
   "cell_type": "code",
   "execution_count": 367,
   "metadata": {},
   "outputs": [],
   "source": [
    "# Define the network:\n",
    "class autoencoder(nn.Module):\n",
    "    def __init__(self):\n",
    "        super(autoencoder, self).__init__()\n",
    "        \n",
    "        self.encoder = nn.Sequential(\n",
    "            nn.Linear(28*28, 128),\n",
    "#             nn.BatchNorm1d(128),\n",
    "            nn.ReLU(True),\n",
    "            nn.Linear(128, 64),\n",
    "#             nn.BatchNorm1d(64),\n",
    "            nn.ReLU(True),\n",
    "            nn.Linear(64, 12),\n",
    "#             nn.BatchNorm1d(12),\n",
    "            nn.ReLU(True),\n",
    "            nn.Linear(12, 2) # 2-dimensional latent space\n",
    "        )\n",
    "        \n",
    "        self.decoder = nn.Sequential(\n",
    "            nn.Linear(2, 12),\n",
    "            nn.ReLU(True),\n",
    "            nn.Linear(12, 64),\n",
    "            nn.ReLU(True),\n",
    "            nn.Linear(64, 128),\n",
    "            nn.ReLU(True),\n",
    "            nn.Linear(128, 28*28),\n",
    "            nn.Tanh()\n",
    "        )\n",
    "\n",
    "    def forward(self, x):\n",
    "        encode = self.encoder(x)\n",
    "        decode = self.decoder(encode)\n",
    "        return encode, decode"
   ]
  },
  {
   "cell_type": "code",
   "execution_count": 368,
   "metadata": {},
   "outputs": [],
   "source": [
    "EPOCH = 3\n",
    "BATCH_SIZE = 64\n",
    "LR = 0.005\n",
    "autoencoder = autoencoder()"
   ]
  },
  {
   "cell_type": "code",
   "execution_count": 369,
   "metadata": {},
   "outputs": [],
   "source": [
    "optimizer = t.optim.Adam(autoencoder.parameters(), lr=LR)\n",
    "loss_func = nn.MSELoss()"
   ]
  },
  {
   "cell_type": "code",
   "execution_count": 370,
   "metadata": {
    "scrolled": true
   },
   "outputs": [
    {
     "name": "stdout",
     "output_type": "stream",
     "text": [
      "[1,   100] loss: 0.065\n",
      "[1,   200] loss: 0.057\n",
      "[1,   300] loss: 0.054\n",
      "[1,   400] loss: 0.052\n",
      "[1,   500] loss: 0.051\n",
      "[1,   600] loss: 0.049\n",
      "[1,   700] loss: 0.048\n",
      "[1,   800] loss: 0.048\n",
      "[1,   900] loss: 0.048\n",
      "[1,  1000] loss: 0.048\n",
      "[1,  1100] loss: 0.046\n",
      "[1,  1200] loss: 0.047\n",
      "[1,  1300] loss: 0.046\n",
      "[1,  1400] loss: 0.046\n",
      "[1,  1500] loss: 0.046\n",
      "[1,  1600] loss: 0.045\n",
      "[1,  1700] loss: 0.045\n",
      "[1,  1800] loss: 0.045\n",
      "[2,   100] loss: 0.045\n",
      "[2,   200] loss: 0.046\n",
      "[2,   300] loss: 0.045\n",
      "[2,   400] loss: 0.044\n",
      "[2,   500] loss: 0.044\n",
      "[2,   600] loss: 0.044\n",
      "[2,   700] loss: 0.044\n",
      "[2,   800] loss: 0.043\n",
      "[2,   900] loss: 0.043\n",
      "[2,  1000] loss: 0.043\n",
      "[2,  1100] loss: 0.045\n",
      "[2,  1200] loss: 0.043\n",
      "[2,  1300] loss: 0.043\n",
      "[2,  1400] loss: 0.043\n",
      "[2,  1500] loss: 0.043\n",
      "[2,  1600] loss: 0.043\n",
      "[2,  1700] loss: 0.043\n",
      "[2,  1800] loss: 0.042\n",
      "[3,   100] loss: 0.042\n",
      "[3,   200] loss: 0.042\n",
      "[3,   300] loss: 0.042\n",
      "[3,   400] loss: 0.043\n",
      "[3,   500] loss: 0.042\n",
      "[3,   600] loss: 0.042\n",
      "[3,   700] loss: 0.042\n",
      "[3,   800] loss: 0.043\n",
      "[3,   900] loss: 0.043\n",
      "[3,  1000] loss: 0.043\n",
      "[3,  1100] loss: 0.043\n",
      "[3,  1200] loss: 0.042\n",
      "[3,  1300] loss: 0.043\n",
      "[3,  1400] loss: 0.042\n",
      "[3,  1500] loss: 0.042\n",
      "[3,  1600] loss: 0.042\n",
      "[3,  1700] loss: 0.042\n",
      "[3,  1800] loss: 0.042\n"
     ]
    }
   ],
   "source": [
    "for epoch in range(EPOCH):\n",
    "    running_loss = 0.0\n",
    "    for step, (x, b_label) in enumerate(train_loader):\n",
    "        b_x = x.view(-1, 28*28)   # batch x, shape (batch, 28*28)\n",
    "        b_y = x.view(-1, 28*28)   # batch y, shape (batch, 28*28)\n",
    "        \n",
    "        encoded, decoded = autoencoder(b_x)\n",
    "#         print(decoded.shape)\n",
    "#         k = (decoded-b_y)[0]\n",
    "#         print(k.detach().numpy())\n",
    "#         print(np.sum((decoded-b_y)[0].detach().numpy()))\n",
    "#         print(b_x.shape[0])\n",
    "        loss = loss_func(decoded, b_y)      # mean square error\n",
    "#         print(loss)\n",
    "        optimizer.zero_grad()               # clear gradients for this training step\n",
    "        loss.backward()                     # backpropagation, compute gradients\n",
    "        optimizer.step()                    # apply gradients\n",
    "        running_loss += loss.item()\n",
    "        if step % 100 == 99:    # print every 2000 mini-batches\n",
    "            print('[%d, %5d] loss: %.3f' %\n",
    "                  (epoch + 1, step + 1, running_loss / 100))\n",
    "            running_loss = 0.0"
   ]
  },
  {
   "cell_type": "code",
   "execution_count": 375,
   "metadata": {},
   "outputs": [
    {
     "data": {
      "text/plain": [
       "(-5.7905631, 18.675114)"
      ]
     },
     "execution_count": 375,
     "metadata": {},
     "output_type": "execute_result"
    },
    {
     "data": {
      "image/png": "[encoded data removed]",
      "text/plain": [
       "<matplotlib.figure.Figure at 0x169ad15c0>"
      ]
     },
     "metadata": {},
     "output_type": "display_data"
    }
   ],
   "source": [
    "# 要观看的数据\n",
    "view_data = train_data.train_data[:200].view(-1, 28*28).type(t.FloatTensor)/255.\n",
    "encoded_data, output = autoencoder(view_data)    # 提取压缩的特征值\n",
    "fig = figure(2)\n",
    "ax = fig.gca()\n",
    "\n",
    "X = encoded_data.data[:, 0].numpy()\n",
    "Y = encoded_data.data[:, 1].numpy()\n",
    "\n",
    "values = train_data.train_labels[:200].numpy()  # 标签值\n",
    "for x, y, s in zip(X, Y, values):\n",
    "    c = cm.rainbow(int(255*s/9))    # 上色\n",
    "    ax.text(x, y, s, backgroundcolor=c)  # 标位子\n",
    "ax.set_xlim(X.min(), X.max())\n",
    "ax.set_ylim(Y.min(), Y.max())"
   ]
  },
  {
   "cell_type": "code",
   "execution_count": 376,
   "metadata": {},
   "outputs": [
    {
     "data": {
      "text/plain": [
       "tensor([[-9.5860e-04, -1.1515e-04, -1.7395e-04,  ...,  6.1328e-04,\n",
       "          2.0699e-05, -2.3966e-03],\n",
       "        [-2.6146e-03,  1.1770e-04,  1.8049e-04,  ..., -1.1961e-03,\n",
       "         -2.0415e-04,  2.5728e-03],\n",
       "        [ 5.9338e-04, -1.8927e-04, -6.2157e-05,  ..., -2.3963e-05,\n",
       "         -2.2767e-05, -1.8547e-04],\n",
       "        ...,\n",
       "        [ 4.0010e-04, -2.9344e-04, -8.0920e-05,  ..., -3.0924e-04,\n",
       "         -4.7813e-05,  1.2113e-03],\n",
       "        [-2.7848e-03, -1.0935e-04, -6.3391e-05,  ...,  2.6099e-04,\n",
       "         -6.4354e-05, -1.2782e-03],\n",
       "        [-2.3570e-06, -2.9154e-04, -7.6791e-05,  ...,  1.8639e-04,\n",
       "          4.1526e-06, -7.4034e-04]])"
      ]
     },
     "execution_count": 376,
     "metadata": {},
     "output_type": "execute_result"
    }
   ],
   "source": [
    "output"
   ]
  },
  {
   "cell_type": "code",
   "execution_count": 440,
   "metadata": {},
   "outputs": [
    {
     "ename": "IndexError",
     "evalue": "index 1 is out of bounds for axis 0 with size 1",
     "output_type": "error",
     "traceback": [
      "\u001b[0;31m---------------------------------------------------------------------------\u001b[0m",
      "\u001b[0;31mIndexError\u001b[0m                                Traceback (most recent call last)",
      "\u001b[0;32m<ipython-input-440-e29fb9115bcd>\u001b[0m in \u001b[0;36m<module>\u001b[0;34m()\u001b[0m\n\u001b[1;32m      2\u001b[0m \u001b[0;32mfor\u001b[0m \u001b[0mi\u001b[0m \u001b[0;32min\u001b[0m \u001b[0mrange\u001b[0m\u001b[0;34m(\u001b[0m\u001b[0;36m50\u001b[0m\u001b[0;34m)\u001b[0m\u001b[0;34m:\u001b[0m\u001b[0;34m\u001b[0m\u001b[0m\n\u001b[1;32m      3\u001b[0m     \u001b[0msubplot\u001b[0m\u001b[0;34m(\u001b[0m\u001b[0;36m5\u001b[0m\u001b[0;34m,\u001b[0m\u001b[0;36m10\u001b[0m\u001b[0;34m,\u001b[0m\u001b[0mi\u001b[0m\u001b[0;34m+\u001b[0m\u001b[0;36m1\u001b[0m\u001b[0;34m)\u001b[0m\u001b[0;34m\u001b[0m\u001b[0m\n\u001b[0;32m----> 4\u001b[0;31m     \u001b[0mimshow\u001b[0m\u001b[0;34m(\u001b[0m\u001b[0;34m(\u001b[0m\u001b[0mtrain_data\u001b[0m\u001b[0;34m[\u001b[0m\u001b[0;36m0\u001b[0m\u001b[0;34m]\u001b[0m\u001b[0;34m[\u001b[0m\u001b[0;36m0\u001b[0m\u001b[0;34m]\u001b[0m\u001b[0;34m)\u001b[0m\u001b[0;34m.\u001b[0m\u001b[0mnumpy\u001b[0m\u001b[0;34m(\u001b[0m\u001b[0;34m)\u001b[0m\u001b[0;34m[\u001b[0m\u001b[0mi\u001b[0m\u001b[0;34m]\u001b[0m\u001b[0;34m.\u001b[0m\u001b[0mreshape\u001b[0m\u001b[0;34m(\u001b[0m\u001b[0;34m[\u001b[0m\u001b[0;36m28\u001b[0m\u001b[0;34m,\u001b[0m\u001b[0;36m28\u001b[0m\u001b[0;34m]\u001b[0m\u001b[0;34m)\u001b[0m\u001b[0;34m,\u001b[0m\u001b[0mcmap\u001b[0m\u001b[0;34m=\u001b[0m\u001b[0;34m'gray'\u001b[0m\u001b[0;34m)\u001b[0m\u001b[0;34m;\u001b[0m\u001b[0;34m\u001b[0m\u001b[0m\n\u001b[0m\u001b[1;32m      5\u001b[0m \u001b[0;31m#     title(str(train_data[1][i]));\u001b[0m\u001b[0;34m\u001b[0m\u001b[0;34m\u001b[0m\u001b[0m\n\u001b[1;32m      6\u001b[0m     \u001b[0maxis\u001b[0m\u001b[0;34m(\u001b[0m\u001b[0;34m'off'\u001b[0m\u001b[0;34m)\u001b[0m\u001b[0;34m\u001b[0m\u001b[0m\n",
      "\u001b[0;31mIndexError\u001b[0m: index 1 is out of bounds for axis 0 with size 1"
     ]
    },
    {
     "data": {
      "image/png": "[encoded data removed]",
      "text/plain": [
       "<matplotlib.figure.Figure at 0x15bfc9da0>"
      ]
     },
     "metadata": {},
     "output_type": "display_data"
    }
   ],
   "source": [
    "# Examine the dataset:\n",
    "for i in range(50):\n",
    "    subplot(5,10,i+1)\n",
    "    imshow((train_data[0][0][0]).numpy()[i].reshape([28,28]),cmap='gray');\n",
    "#     title(str(train_data[1][i]));\n",
    "    axis('off')"
   ]
  },
  {
   "cell_type": "markdown",
   "metadata": {},
   "source": [
    "### 1.2 Your visualization"
   ]
  },
  {
   "cell_type": "code",
   "execution_count": null,
   "metadata": {},
   "outputs": [],
   "source": [
    "# Please run your analysis here"
   ]
  },
  {
   "cell_type": "markdown",
   "metadata": {},
   "source": [
    "## 2 Integer Factorization (3 points)\n",
    "\n",
    "Here we explore the possibilty that a neural network may be able to judge whether an input integer is a prime number or not.\n",
    "\n",
    "* Computational problem: tell if an input is a prime number \n",
    "\n",
    "* Network Input: an integer in binary code (e.g., 0→000000000000000 (15 bits); 1→000000000000001; 2→000000000000010)\n",
    "\n",
    "* Network Output: 1 unit (1=yes; 0=no)\n",
    "\n",
    "* Network Architecture: your choice\n",
    "\n",
    "* Data set: You can enlarge your training and testing data sets, if necessary. Training accuracies and testing accuraces are both informative but of course we care more about the testing ones."
   ]
  },
  {
   "cell_type": "markdown",
   "metadata": {},
   "source": [
    "### 2.1 The data set"
   ]
  },
  {
   "cell_type": "code",
   "execution_count": 31,
   "metadata": {},
   "outputs": [
    {
     "name": "stdout",
     "output_type": "stream",
     "text": [
      "(26214,) [23540 17582 32744 ... 30972 20461 22335]\n",
      "(26214,) [0 0 0 ... 0 0 0]\n",
      "(6554,) [23540 17582 32744 ... 30972 20461 22335]\n",
      "(6554,) [0 0 0 ... 0 0 0]\n"
     ]
    },
    {
     "data": {
      "text/plain": [
       "'101101111110100'"
      ]
     },
     "execution_count": 31,
     "metadata": {},
     "output_type": "execute_result"
    }
   ],
   "source": [
    "from math import sqrt; from itertools import count, islice\n",
    "\n",
    "def isPrime(n):\n",
    "    return n > 1 and all(n%i for i in islice(count(2), int(sqrt(n)-1)))\n",
    "\n",
    "ifPrime=np.vectorize(isPrime)    \n",
    "\n",
    "x=np.arange(32768) #2^15\n",
    "y=ifPrime(x).astype(int) \n",
    "\n",
    "# Training-testing splits:\n",
    "\n",
    "from sklearn.model_selection import train_test_split\n",
    "\n",
    "x_train, x_test, y_train, y_test = train_test_split(x, y, test_size=0.20)\n",
    "\n",
    "# Training data:\n",
    "print(x_train.shape,x_train)\n",
    "print(y_train.shape,y_train)\n",
    "\n",
    "# Testing data:\n",
    "print(x_test.shape,x_train)\n",
    "print(y_test.shape,y_train)\n",
    "\n",
    "# Conversion from an integer to it binary code:\n",
    "format(x_train[0], '015b')"
   ]
  },
  {
   "cell_type": "markdown",
   "metadata": {},
   "source": [
    "### 2.2 Your model"
   ]
  },
  {
   "cell_type": "code",
   "execution_count": null,
   "metadata": {},
   "outputs": [],
   "source": [
    "# Please train & evaluate your model here."
   ]
  }
 ],
 "metadata": {
  "kernelspec": {
   "display_name": "Python 3",
   "language": "python",
   "name": "python3"
  },
  "language_info": {
   "codemirror_mode": {
    "name": "ipython",
    "version": 3
   },
   "file_extension": ".py",
   "mimetype": "text/x-python",
   "name": "python",
   "nbconvert_exporter": "python",
   "pygments_lexer": "ipython3",
   "version": "3.6.3"
  }
 },
 "nbformat": 4,
 "nbformat_minor": 2
}
