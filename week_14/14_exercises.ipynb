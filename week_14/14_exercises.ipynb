{
 "cells": [
  {
   "cell_type": "markdown",
   "metadata": {},
   "source": [
    "# Neural & Behavioral Modeling - Week 14 (Exercises)\n",
    "趙冠豪 (B05901180)"
   ]
  },
  {
   "cell_type": "code",
   "execution_count": 1,
   "metadata": {},
   "outputs": [
    {
     "name": "stdout",
     "output_type": "stream",
     "text": [
      "Solving environment: failed\n",
      "\n",
      "PackagesNotFoundError: The following packages are not available from current channels:\n",
      "\n",
      "  - torchvision-cpu\n",
      "  - pytorch-cpu\n",
      "\n",
      "Current channels:\n",
      "\n",
      "  - https://conda.anaconda.org/pytorch/osx-64\n",
      "  - https://conda.anaconda.org/pytorch/noarch\n",
      "  - https://repo.anaconda.com/pkgs/main/osx-64\n",
      "  - https://repo.anaconda.com/pkgs/main/noarch\n",
      "  - https://repo.anaconda.com/pkgs/free/osx-64\n",
      "  - https://repo.anaconda.com/pkgs/free/noarch\n",
      "  - https://repo.anaconda.com/pkgs/r/osx-64\n",
      "  - https://repo.anaconda.com/pkgs/r/noarch\n",
      "  - https://repo.anaconda.com/pkgs/pro/osx-64\n",
      "  - https://repo.anaconda.com/pkgs/pro/noarch\n",
      "\n",
      "To search for alternate channels that may provide the conda package you're\n",
      "looking for, navigate to\n",
      "\n",
      "    https://anaconda.org\n",
      "\n",
      "and use the search bar at the top of the page.\n",
      "\n",
      "\n"
     ]
    }
   ],
   "source": [
    "# Upgrade PyTorch to 0.4.0 if necessary:\n",
    "! conda install -y pytorch-cpu torchvision-cpu -c pytorch"
   ]
  },
  {
   "cell_type": "code",
   "execution_count": 116,
   "metadata": {},
   "outputs": [],
   "source": [
    "%config IPCompleter.greedy=True \n",
    "%matplotlib inline\n",
    "import matplotlib.pyplot as plt \n",
    "from IPython.display import *\n",
    "import numpy as np\n",
    "from torch.autograd import Variable\n",
    "import pylab as pl\n",
    "import torch.nn.init as init"
   ]
  },
  {
   "cell_type": "code",
   "execution_count": 117,
   "metadata": {},
   "outputs": [
    {
     "name": "stdout",
     "output_type": "stream",
     "text": [
      "PyTorch version: 0.4.0\n",
      "No GPU\n"
     ]
    }
   ],
   "source": [
    "# Check GPU status:\n",
    "import torch as t\n",
    "t.manual_seed(1)    # for reproduction\n",
    "print('PyTorch version:',t.__version__)\n",
    "use_cuda=t.cuda.is_available()\n",
    "if(use_cuda):\n",
    "    for i in range(t.cuda.device_count()):\n",
    "        print('Device ',i,':',t.cuda.get_device_name(i))\n",
    "    print('Current: Device ',t.cuda.current_device())\n",
    "    t.backends.cudnn.benchmark = True \n",
    "    device = t.device(\"cuda\")\n",
    "else:\n",
    "    device = t.device(\"cpu\")\n",
    "    print('No GPU')"
   ]
  },
  {
   "cell_type": "markdown",
   "metadata": {},
   "source": [
    "## 1 Activation/Signal Function in RNN (10 points)\n",
    "\n",
    "tanh(x) is a more popular choice of activation function than sigmoid(x) & relu(x) in contemporary RNNs.\n",
    "Below please use simple RNN to compare 3 activation functions in terms of their learning efficiency and capacity. If there is any significant difference, please discuss why. \n",
    "\n",
    "nn.RNN(..., nonlinearity='relu') allows you to switch tanh to relu. However, you need some deep hacking of the source code to replace nn.Tanh with nn.Sigmoid. Alternatively, you can <a href=\"https://www.cpuheater.com/deep-learning/introduction-to-recurrent-neural-networks-in-pytorch/\">code a simple RNN from scratch</a> to have a better control of everything!"
   ]
  },
  {
   "cell_type": "markdown",
   "metadata": {},
   "source": [
    "### 1.0 Data: sin(t) → cos(t)"
   ]
  },
  {
   "cell_type": "code",
   "execution_count": 118,
   "metadata": {},
   "outputs": [
    {
     "data": {
      "text/plain": [
       "array([ 0.        ,  0.06346652,  0.12693304,  0.19039956,  0.25386608,\n",
       "        0.3173326 ,  0.38079911,  0.44426563,  0.50773215,  0.57119864,\n",
       "        0.63466519,  0.69813168,  0.76159823,  0.82506472,  0.88853127,\n",
       "        0.95199776,  1.01546431,  1.07893085,  1.14239728,  1.20586383,\n",
       "        1.26933038,  1.33279693,  1.39626336,  1.45972991,  1.52319646,\n",
       "        1.58666301,  1.65012944,  1.71359599,  1.77706254,  1.84052908,\n",
       "        1.90399551,  1.96746206,  2.03092861,  2.09439516,  2.15786171,\n",
       "        2.22132802,  2.28479457,  2.34826112,  2.41172767,  2.47519422,\n",
       "        2.53866076,  2.60212731,  2.66559386,  2.72906017,  2.79252672,\n",
       "        2.85599327,  2.91945982,  2.98292637,  3.04639292,  3.10985947,\n",
       "        3.17332602,  3.23679233,  3.30025887,  3.36372542,  3.42719197,\n",
       "        3.49065852,  3.55412507,  3.61759162,  3.68105817,  3.74452448,\n",
       "        3.80799103,  3.87145758,  3.93492413,  3.99839067,  4.06185722,\n",
       "        4.12532377,  4.18879032,  4.25225687,  4.31572342,  4.37918997,\n",
       "        4.44265604,  4.50612259,  4.56958914,  4.63305569,  4.69652224,\n",
       "        4.75998878,  4.82345533,  4.88692188,  4.95038843,  5.01385498,\n",
       "        5.07732153,  5.14078808,  5.20425463,  5.26772118,  5.33118773,\n",
       "        5.39465427,  5.45812035,  5.52158689,  5.58505344,  5.64851999,\n",
       "        5.71198654,  5.77545309,  5.83891964,  5.90238619,  5.96585274,\n",
       "        6.02931929,  6.09278584,  6.15625238,  6.21971893,  6.28318548], dtype=float32)"
      ]
     },
     "execution_count": 118,
     "metadata": {},
     "output_type": "execute_result"
    }
   ],
   "source": [
    "steps = np.linspace(0, np.pi*2, 100, dtype=np.float32)\n",
    "steps\n"
   ]
  },
  {
   "cell_type": "code",
   "execution_count": 119,
   "metadata": {},
   "outputs": [
    {
     "data": {
      "image/png": "[encoded data removed]",
      "text/plain": [
       "<matplotlib.figure.Figure at 0x10da1e0f0>"
      ]
     },
     "metadata": {},
     "output_type": "display_data"
    }
   ],
   "source": [
    "steps = np.linspace(0, np.pi*2, 100, dtype=np.float32)\n",
    "x_np = np.sin(steps)\n",
    "y_np = np.cos(steps)\n",
    "plt.plot(steps, y_np, 'r-', label='y (cos)')\n",
    "plt.plot(steps, x_np, 'b-', label='x (sin)')\n",
    "plt.legend(loc='best');"
   ]
  },
  {
   "cell_type": "markdown",
   "metadata": {},
   "source": [
    "### 1.1 RNN model for 1D-to-1D time-series regression (7 points)"
   ]
  },
  {
   "cell_type": "markdown",
   "metadata": {},
   "source": [
    "### >my code below"
   ]
  },
  {
   "cell_type": "markdown",
   "metadata": {},
   "source": [
    "I try to modify different activation function in 'forward function'. I follow the training steps from the link that teacher provide"
   ]
  },
  {
   "cell_type": "markdown",
   "metadata": {},
   "source": [
    "**1. 'tanh' activation function**"
   ]
  },
  {
   "cell_type": "code",
   "execution_count": 491,
   "metadata": {},
   "outputs": [],
   "source": [
    "dtype = t.FloatTensor\n",
    "input_size, hidden_size, output_size = 7, 6, 1\n",
    "epochs = 300\n",
    "seq_length = 20\n",
    "lr = 0.1"
   ]
  },
  {
   "cell_type": "code",
   "execution_count": 492,
   "metadata": {},
   "outputs": [],
   "source": [
    "data_time_steps = np.linspace(2, 10, seq_length + 1)\n",
    "data = np.sin(data_time_steps)\n",
    "data.resize((seq_length + 1, 1))\n",
    "\n",
    "x = Variable(t.Tensor(data[:-1]).type(dtype), requires_grad=False)\n",
    "y = Variable(t.Tensor(data[1:]).type(dtype), requires_grad=False)"
   ]
  },
  {
   "cell_type": "code",
   "execution_count": 493,
   "metadata": {},
   "outputs": [],
   "source": [
    "data = np.sin(data_time_steps)"
   ]
  },
  {
   "cell_type": "code",
   "execution_count": 494,
   "metadata": {},
   "outputs": [
    {
     "data": {
      "text/plain": [
       "array([ 0.90929743,  0.67546318,  0.33498815, -0.05837414, -0.44252044,\n",
       "       -0.7568025 , -0.95160207, -0.99616461, -0.88345466, -0.63126664,\n",
       "       -0.2794155 ,  0.1165492 ,  0.49411335,  0.79366786,  0.96791967,\n",
       "        0.98935825,  0.85459891,  0.58491719,  0.22288991, -0.17432678,\n",
       "       -0.54402111])"
      ]
     },
     "execution_count": 494,
     "metadata": {},
     "output_type": "execute_result"
    }
   ],
   "source": [
    "data"
   ]
  },
  {
   "cell_type": "code",
   "execution_count": 495,
   "metadata": {},
   "outputs": [
    {
     "name": "stderr",
     "output_type": "stream",
     "text": [
      "/Users/Kuan-Hao/anaconda3/lib/python3.6/site-packages/ipykernel_launcher.py:2: UserWarning: nn.init.normal is now deprecated in favor of nn.init.normal_.\n",
      "  \n",
      "/Users/Kuan-Hao/anaconda3/lib/python3.6/site-packages/ipykernel_launcher.py:5: UserWarning: nn.init.normal is now deprecated in favor of nn.init.normal_.\n",
      "  \"\"\"\n"
     ]
    }
   ],
   "source": [
    "w1 = t.FloatTensor(input_size, hidden_size).type(dtype)\n",
    "init.normal(w1, 0.0, 0.4)\n",
    "w1 =  Variable(w1, requires_grad=True)\n",
    "w2 = t.FloatTensor(hidden_size, output_size).type(dtype)\n",
    "init.normal(w2, 0.0, 0.3)\n",
    "w2 = Variable(w2, requires_grad=True)"
   ]
  },
  {
   "cell_type": "code",
   "execution_count": 496,
   "metadata": {},
   "outputs": [],
   "source": [
    "def forward(input, context_state, w1, w2):\n",
    "    xh = t.cat((input, context_state), 1)\n",
    "    context_state = t.tanh(xh.mm(w1))\n",
    "    out = context_state.mm(w2)\n",
    "    return  (out, context_state)"
   ]
  },
  {
   "cell_type": "code",
   "execution_count": 497,
   "metadata": {},
   "outputs": [
    {
     "name": "stderr",
     "output_type": "stream",
     "text": [
      "/Users/Kuan-Hao/anaconda3/lib/python3.6/site-packages/ipykernel_launcher.py:17: UserWarning: invalid index of a 0-dim tensor. This will be an error in PyTorch 0.5. Use tensor.item() to convert a 0-dim tensor to a Python number\n"
     ]
    },
    {
     "name": "stdout",
     "output_type": "stream",
     "text": [
      "Epoch: 0 loss 1.077009916305542\n",
      "Epoch: 10 loss 0.20088103413581848\n",
      "Epoch: 20 loss 0.1829497069120407\n",
      "Epoch: 30 loss 0.17391160130500793\n",
      "Epoch: 40 loss 0.16809312999248505\n",
      "Epoch: 50 loss 0.16332034766674042\n",
      "Epoch: 60 loss 0.15867404639720917\n",
      "Epoch: 70 loss 0.15372583270072937\n",
      "Epoch: 80 loss 0.14826613664627075\n",
      "Epoch: 90 loss 0.1422090381383896\n",
      "Epoch: 100 loss 0.1355638951063156\n",
      "Epoch: 110 loss 0.12843057513237\n",
      "Epoch: 120 loss 0.12100140750408173\n",
      "Epoch: 130 loss 0.11355558782815933\n",
      "Epoch: 140 loss 0.10643085092306137\n",
      "Epoch: 150 loss 0.09996701031923294\n",
      "Epoch: 160 loss 0.0944342315196991\n",
      "Epoch: 170 loss 0.08997515588998795\n",
      "Epoch: 180 loss 0.08659179508686066\n",
      "Epoch: 190 loss 0.08417432755231857\n",
      "Epoch: 200 loss 0.08255062252283096\n",
      "Epoch: 210 loss 0.0815296322107315\n",
      "Epoch: 220 loss 0.08092847466468811\n",
      "Epoch: 230 loss 0.08058648556470871\n",
      "Epoch: 240 loss 0.08037542551755905\n",
      "Epoch: 250 loss 0.08020639419555664\n",
      "Epoch: 260 loss 0.08003539592027664\n",
      "Epoch: 270 loss 0.0798640102148056\n",
      "Epoch: 280 loss 0.07973239570856094\n",
      "Epoch: 290 loss 0.07970310002565384\n"
     ]
    }
   ],
   "source": [
    "for i in range(epochs):\n",
    "    total_loss = 0\n",
    "    context_state = Variable(t.zeros((1, hidden_size)).type(dtype), requires_grad=True)\n",
    "    for j in range(x.size(0)):\n",
    "        input = x[j:(j+1)]\n",
    "        target = y[j:(j+1)]\n",
    "        (pred, context_state) = forward(input, context_state, w1, w2)\n",
    "        loss = (pred - target).pow(2).sum()/2\n",
    "        total_loss += loss\n",
    "        loss.backward()\n",
    "        w1.data -= lr * w1.grad.data\n",
    "        w2.data -= lr * w2.grad.data\n",
    "        w1.grad.data.zero_()\n",
    "        w2.grad.data.zero_()\n",
    "        context_state = Variable(context_state.data)\n",
    "    if i % 10 == 0:\n",
    "        print(\"Epoch: {} loss {}\".format(i, total_loss.data[0]))"
   ]
  },
  {
   "cell_type": "code",
   "execution_count": 498,
   "metadata": {},
   "outputs": [],
   "source": [
    "context_state = Variable(t.zeros((1, hidden_size)).type(dtype), requires_grad=False)\n",
    "predictions = []\n",
    " \n",
    "for i in range(x.size(0)):\n",
    "    input = x[i:i+1]\n",
    "    (pred, context_state) = forward(input, context_state, w1, w2)\n",
    "    context_state = context_state\n",
    "    predictions.append(pred.data.numpy().ravel()[0])"
   ]
  },
  {
   "cell_type": "code",
   "execution_count": 499,
   "metadata": {},
   "outputs": [
    {
     "data": {
      "text/plain": [
       "[<matplotlib.lines.Line2D at 0x1151e3c50>]"
      ]
     },
     "execution_count": 499,
     "metadata": {},
     "output_type": "execute_result"
    },
    {
     "data": {
      "image/png": "[encoded data removed]",
      "text/plain": [
       "<matplotlib.figure.Figure at 0x1151e3cc0>"
      ]
     },
     "metadata": {},
     "output_type": "display_data"
    }
   ],
   "source": [
    "plt.plot(predictions, \"ro\", label='prediction')\n",
    "plt.plot(np.sin(data_time_steps[1:]), 'bo', label='target')"
   ]
  },
  {
   "cell_type": "markdown",
   "metadata": {},
   "source": [
    "**2. 'relu' activation function**"
   ]
  },
  {
   "cell_type": "code",
   "execution_count": 442,
   "metadata": {},
   "outputs": [],
   "source": [
    "def forward(input, context_state, w1, w2):\n",
    "    xh = t.cat((input, context_state), 1)\n",
    "    context_state = t.relu(xh.mm(w1))\n",
    "    out = context_state.mm(w2)\n",
    "    return  (out, context_state)"
   ]
  },
  {
   "cell_type": "code",
   "execution_count": 443,
   "metadata": {},
   "outputs": [
    {
     "name": "stderr",
     "output_type": "stream",
     "text": [
      "/Users/Kuan-Hao/anaconda3/lib/python3.6/site-packages/ipykernel_launcher.py:17: UserWarning: invalid index of a 0-dim tensor. This will be an error in PyTorch 0.5. Use tensor.item() to convert a 0-dim tensor to a Python number\n"
     ]
    },
    {
     "name": "stdout",
     "output_type": "stream",
     "text": [
      "Epoch: 0 loss 0.32661551237106323\n",
      "Epoch: 10 loss 0.32440418004989624\n",
      "Epoch: 20 loss 0.32322394847869873\n",
      "Epoch: 30 loss 0.32227110862731934\n",
      "Epoch: 40 loss 0.3202386200428009\n",
      "Epoch: 50 loss 0.32583877444267273\n",
      "Epoch: 60 loss 0.32546699047088623\n",
      "Epoch: 70 loss 0.32521557807922363\n",
      "Epoch: 80 loss 0.3247508108615875\n",
      "Epoch: 90 loss 0.3216037154197693\n",
      "Epoch: 100 loss 0.32481345534324646\n",
      "Epoch: 110 loss 0.32346343994140625\n",
      "Epoch: 120 loss 0.32079342007637024\n",
      "Epoch: 130 loss 0.32103151082992554\n",
      "Epoch: 140 loss 0.3261336088180542\n",
      "Epoch: 150 loss 0.31994155049324036\n",
      "Epoch: 160 loss 0.32157042622566223\n",
      "Epoch: 170 loss 0.3280011713504791\n",
      "Epoch: 180 loss 0.3248289227485657\n",
      "Epoch: 190 loss 0.32247668504714966\n",
      "Epoch: 200 loss 0.32173484563827515\n",
      "Epoch: 210 loss 0.32312917709350586\n",
      "Epoch: 220 loss 0.3366624116897583\n",
      "Epoch: 230 loss 0.32195618748664856\n",
      "Epoch: 240 loss 0.33689284324645996\n",
      "Epoch: 250 loss 0.33180099725723267\n",
      "Epoch: 260 loss 0.33412936329841614\n",
      "Epoch: 270 loss 0.3268222212791443\n",
      "Epoch: 280 loss 0.33780747652053833\n",
      "Epoch: 290 loss 0.3289555609226227\n"
     ]
    }
   ],
   "source": [
    "for i in range(epochs):\n",
    "    total_loss = 0\n",
    "    context_state = Variable(t.zeros((1, hidden_size)).type(dtype), requires_grad=True)\n",
    "    for j in range(x.size(0)):\n",
    "        input = x[j:(j+1)]\n",
    "        target = y[j:(j+1)]\n",
    "        (pred, context_state) = forward(input, context_state, w1, w2)\n",
    "        loss = (pred - target).pow(2).sum()/2\n",
    "        total_loss += loss\n",
    "        loss.backward()\n",
    "        w1.data -= lr * w1.grad.data\n",
    "        w2.data -= lr * w2.grad.data\n",
    "        w1.grad.data.zero_()\n",
    "        w2.grad.data.zero_()\n",
    "        context_state = Variable(context_state.data)\n",
    "    if i % 10 == 0:\n",
    "        print(\"Epoch: {} loss {}\".format(i, total_loss.data[0]))"
   ]
  },
  {
   "cell_type": "code",
   "execution_count": 444,
   "metadata": {},
   "outputs": [],
   "source": [
    "context_state = Variable(t.zeros((1, hidden_size)).type(dtype), requires_grad=False)\n",
    "predictions = []\n",
    " \n",
    "for i in range(x.size(0)):\n",
    "    input = x[i:i+1]\n",
    "    (pred, context_state) = forward(input, context_state, w1, w2)\n",
    "    context_state = context_state\n",
    "    predictions.append(pred.data.numpy().ravel()[0])"
   ]
  },
  {
   "cell_type": "code",
   "execution_count": 445,
   "metadata": {},
   "outputs": [
    {
     "data": {
      "text/plain": [
       "[<matplotlib.lines.Line2D at 0x114cd5b38>]"
      ]
     },
     "execution_count": 445,
     "metadata": {},
     "output_type": "execute_result"
    },
    {
     "data": {
      "image/png": "[encoded data removed]",
      "text/plain": [
       "<matplotlib.figure.Figure at 0x114cd57f0>"
      ]
     },
     "metadata": {},
     "output_type": "display_data"
    }
   ],
   "source": [
    "plt.plot(predictions, \"ro\", label='prediction')\n",
    "plt.plot(np.sin(data_time_steps[1:]), 'bo', label='target')"
   ]
  },
  {
   "cell_type": "markdown",
   "metadata": {},
   "source": [
    "**1. 'sigmoid' activation function**"
   ]
  },
  {
   "cell_type": "code",
   "execution_count": 500,
   "metadata": {},
   "outputs": [],
   "source": [
    "def forward(input, context_state, w1, w2):\n",
    "    xh = t.cat((input, context_state), 1)\n",
    "    context_state = t.sigmoid(xh.mm(w1))\n",
    "    out = context_state.mm(w2)\n",
    "    return  (out, context_state)"
   ]
  },
  {
   "cell_type": "code",
   "execution_count": 501,
   "metadata": {},
   "outputs": [
    {
     "name": "stderr",
     "output_type": "stream",
     "text": [
      "/Users/Kuan-Hao/anaconda3/lib/python3.6/site-packages/ipykernel_launcher.py:17: UserWarning: invalid index of a 0-dim tensor. This will be an error in PyTorch 0.5. Use tensor.item() to convert a 0-dim tensor to a Python number\n"
     ]
    },
    {
     "name": "stdout",
     "output_type": "stream",
     "text": [
      "Epoch: 0 loss 9.584457397460938\n",
      "Epoch: 10 loss 1.3161768913269043\n",
      "Epoch: 20 loss 0.8818637132644653\n",
      "Epoch: 30 loss 0.7871417999267578\n",
      "Epoch: 40 loss 0.7320564985275269\n",
      "Epoch: 50 loss 0.685245156288147\n",
      "Epoch: 60 loss 0.6429367065429688\n",
      "Epoch: 70 loss 0.6046749949455261\n",
      "Epoch: 80 loss 0.5705875754356384\n",
      "Epoch: 90 loss 0.540919303894043\n",
      "Epoch: 100 loss 0.5157875418663025\n",
      "Epoch: 110 loss 0.4949895739555359\n",
      "Epoch: 120 loss 0.4779016375541687\n",
      "Epoch: 130 loss 0.4635421633720398\n",
      "Epoch: 140 loss 0.4507558047771454\n",
      "Epoch: 150 loss 0.43845611810684204\n",
      "Epoch: 160 loss 0.4258177876472473\n",
      "Epoch: 170 loss 0.41235846281051636\n",
      "Epoch: 180 loss 0.39791345596313477\n",
      "Epoch: 190 loss 0.382546067237854\n",
      "Epoch: 200 loss 0.36644551157951355\n",
      "Epoch: 210 loss 0.34984877705574036\n",
      "Epoch: 220 loss 0.3329871594905853\n",
      "Epoch: 230 loss 0.31606653332710266\n",
      "Epoch: 240 loss 0.2992551326751709\n",
      "Epoch: 250 loss 0.28268641233444214\n",
      "Epoch: 260 loss 0.2664644420146942\n",
      "Epoch: 270 loss 0.2506689429283142\n",
      "Epoch: 280 loss 0.23535943031311035\n",
      "Epoch: 290 loss 0.22058232128620148\n"
     ]
    }
   ],
   "source": [
    "for i in range(epochs):\n",
    "    total_loss = 0\n",
    "    context_state = Variable(t.zeros((1, hidden_size)).type(dtype), requires_grad=True)\n",
    "    for j in range(x.size(0)):\n",
    "        input = x[j:(j+1)]\n",
    "        target = y[j:(j+1)]\n",
    "        (pred, context_state) = forward(input, context_state, w1, w2)\n",
    "        loss = (pred - target).pow(2).sum()/2\n",
    "        total_loss += loss\n",
    "        loss.backward()\n",
    "        w1.data -= lr * w1.grad.data\n",
    "        w2.data -= lr * w2.grad.data\n",
    "        w1.grad.data.zero_()\n",
    "        w2.grad.data.zero_()\n",
    "        context_state = Variable(context_state.data)\n",
    "    if i % 10 == 0:\n",
    "        print(\"Epoch: {} loss {}\".format(i, total_loss.data[0]))"
   ]
  },
  {
   "cell_type": "code",
   "execution_count": 502,
   "metadata": {},
   "outputs": [],
   "source": [
    "context_state = Variable(t.zeros((1, hidden_size)).type(dtype), requires_grad=False)\n",
    "predictions = []\n",
    " \n",
    "for i in range(x.size(0)):\n",
    "    input = x[i:i+1]\n",
    "    (pred, context_state) = forward(input, context_state, w1, w2)\n",
    "    context_state = context_state\n",
    "    predictions.append(pred.data.numpy().ravel()[0])"
   ]
  },
  {
   "cell_type": "code",
   "execution_count": 503,
   "metadata": {},
   "outputs": [
    {
     "data": {
      "text/plain": [
       "[<matplotlib.lines.Line2D at 0x11528ff60>]"
      ]
     },
     "execution_count": 503,
     "metadata": {},
     "output_type": "execute_result"
    },
    {
     "data": {
      "image/png": "[encoded data removed]",
      "text/plain": [
       "<matplotlib.figure.Figure at 0x11528f198>"
      ]
     },
     "metadata": {},
     "output_type": "display_data"
    }
   ],
   "source": [
    "plt.plot(predictions, \"ro\", label='prediction')\n",
    "plt.plot(np.sin(data_time_steps[1:]), 'bo', label='target')"
   ]
  },
  {
   "cell_type": "markdown",
   "metadata": {},
   "source": [
    "### 1.2 Conclusions (3 points)"
   ]
  },
  {
   "cell_type": "markdown",
   "metadata": {},
   "source": [
    "Please write your discussion here."
   ]
  },
  {
   "cell_type": "markdown",
   "metadata": {},
   "source": [
    "經過多次的觀察之後，我發現的以下的現象：\n",
    "1. relu 的近似效果對於 sin函數來說最差。(形狀會偏離原本的函數，有\n",
    "2. sigmod 和 tanh 的效果都還不錯"
   ]
  },
  {
   "cell_type": "markdown",
   "metadata": {},
   "source": [
    "![](https://i.imgur.com/8uoEQhl.png)\n",
    "![](https://i.imgur.com/YA7tFJv.png)\n",
    "\n"
   ]
  },
  {
   "cell_type": "markdown",
   "metadata": {},
   "source": [
    "推測原因： 用Relu當作 activation function 的 modle 都是用線性近似的（每一小段都是直線）。需要更多的training loop 才可以接近smooth funciton. 如果使用 tanh 或者 sigmoid 效果則比較好。"
   ]
  },
  {
   "cell_type": "code",
   "execution_count": null,
   "metadata": {},
   "outputs": [],
   "source": []
  }
 ],
 "metadata": {
  "kernelspec": {
   "display_name": "Python 3",
   "language": "python",
   "name": "python3"
  },
  "language_info": {
   "codemirror_mode": {
    "name": "ipython",
    "version": 3
   },
   "file_extension": ".py",
   "mimetype": "text/x-python",
   "name": "python",
   "nbconvert_exporter": "python",
   "pygments_lexer": "ipython3",
   "version": "3.6.3"
  }
 },
 "nbformat": 4,
 "nbformat_minor": 2
}
